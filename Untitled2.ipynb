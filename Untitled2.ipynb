{
  "nbformat": 4,
  "nbformat_minor": 0,
  "metadata": {
    "colab": {
      "name": "Untitled2.ipynb",
      "provenance": [],
      "collapsed_sections": [],
      "include_colab_link": true
    },
    "kernelspec": {
      "name": "python3",
      "display_name": "Python 3"
    }
  },
  "cells": [
    {
      "cell_type": "markdown",
      "metadata": {
        "id": "view-in-github",
        "colab_type": "text"
      },
      "source": [
        "<a href=\"https://colab.research.google.com/github/a1b2c3d4-jh/ml2019-as3/blob/master/Untitled2.ipynb\" target=\"_parent\"><img src=\"https://colab.research.google.com/assets/colab-badge.svg\" alt=\"Open In Colab\"/></a>"
      ]
    },
    {
      "cell_type": "code",
      "metadata": {
        "id": "7gLliR-EDOM3",
        "colab_type": "code",
        "colab": {}
      },
      "source": [
        ""
      ],
      "execution_count": 0,
      "outputs": []
    },
    {
      "cell_type": "markdown",
      "metadata": {
        "id": "41f_nJ4kDPXP",
        "colab_type": "text"
      },
      "source": [
        "#Assignment 3：Pitch and Plan for solving a Domain Problem\n",
        "\n",
        "##Student name: He Jiang\n",
        "\n",
        "##Student ID:12992398 \n",
        "**Github link:https://github.com/a1b2c3d4-jh/ml2019-as3/blob/master/Untitled2.ipynb**\n",
        "\n",
        "# A Precision Marketing System Based on AI Algorithms to Mining User Switching Demand\n",
        "\n",
        "# 1.AIMS:\n",
        "\n",
        "This project is devoted to developing a smart product that is conducive to improving the efficiency of mobile phone marketing for Telecom companies. It can achieve accurate access to users with the intention of switching, and do point-to-point marketing, which greatly improves the effect of advertising, or marketing reach. This product mainly achieves precision marketing through four links: i) drawing high-resolution user portraits based on the basic information and user attributes of the active users of telecommunications companies; ii) collecting new mobile product release information of future mobile phone manufacturers based on the application of legal crawler technology, including basic information such as mobile phone population positioning, mobile phone price and so on; iii) constructing multiple taxonomies; Learner, to determine whether users have potential needs, as well as users'mobile phone hobby orientation; iiii) to verify the learning effect, and deployment, marketing, promotion.\n",
        "\n",
        "# 2.Background:\n",
        "Over the past decade, the popularity of 4G networks in major developed markets around the world and the continuous progress of mobile phone manufacturers such as Apple, Samsung and Huawei in the field of hardware have made the wave of mobile interconnection rapidly spread to every corner of the globe. Over the past decade, smartphone shipments have shown a blowout trend, from 124 million in 2007 to 1.44 billion in 2018, and the market has increased by more than 10 times. But now the huge challenge is that the 5G market has not been opened and the 4G market is becoming saturated. How to accurately identify the changing needs of users, rapidly expand the stock market and avoid the encroachment of other brands is of great significance.\n",
        "\n",
        "Traditionally, mobile phone marketing is usually based on price promotion to attract passengers and invest huge amounts of offline advertising to enhance product visibility. However, with the saturation of the market and the rising cost of individual customers, how to accurately launch advertising has become the latest method since the era of AI data. Currently, there are usually two ways to attract potential customers. One is that channel providers, especially Telecom operators, take advantage of their poor information by means of telephone marketing. Especially in recent years, the progress of voice AI has brought about voice robots, which greatly improves the efficiency of telephone marketing. However, with the users'annoyance of privacy exposure, the marketing effect is not significant. Especially serious, it will potentially reduce the brand loyalty of users, which is particularly evident in the Chinese market. The second is to give priority to users who need it, that is to say, precise delivery of advertising marketing is needed. After several years of development, precision marketing has experienced the stage from big data to artificial intelligence, that is, from statistical analysis to algorithmic analysis. Statistical analysis can obtain the rules of a particular population, but its shortcomings are obvious, it lacks the precise maintenance of individuals; while the method based on algorithm analysis breaks through the shortcomings of statistical analysis, especially the rapid development of machine learning, which has low cost, fast product iteration, and can build a set of relatively accurate and good data-based. Interpretable algorithmic model is especially worth popularizing in large quantities throughout the industry.\n",
        "\n",
        "This project relies on the latest classification algorithms (xgboost, LGB, etc.), and on the basis of high-resolution user portraits, infers that the probability, preference and time of user switching can reach thousands of people, and the accuracy of user touch can be achieved. The success rate of marketing is more than ten times higher than that of traditional methods. It also avoids wide-spread, low-efficiency and inhumane harassment marketing, which is excellent. The model and case can maintain high-value customers for channel merchants to a certain extent, and improve the user experience of mobile phone sales.\n",
        "\n",
        "# 3.RESEARCH PROJECT:\n",
        "**1) Why?**\n",
        "\n",
        "With the rise of e-commerce worldwide, especially for the generation who grew up in the spring of the Internet when they were young, stores seem less necessary. They hate advertisements everywhere, they don't want to waste their time searching irrelevant information, they are extremely disgusted with psoriasis marketing. At the same time, they are also important consumers of smartphones and high-end, fashionable models. They are interested in trying new things to feel the pleasure of technology in their lives. So, for this generation, since shopping can be done online one-stop shop, how to guide them to choose the right brand online? Accurate user marketing can effectively solve this problem.\n",
        "\n",
        "Especially from the rise of Chinese mobile phone manufacturers, models have been greatly developed, but the characteristics (selling points) of mobile phones are increasingly homogeneous. The same performance, the same price, then different effective exposure directly determines sales. Therefore, it is very necessary and important to recommend the target model precisely to the users who need it.\n",
        "\n",
        "**2) Innovations and interesting points:**\n",
        "\n",
        "The innovation of this project is not only to predict when users will change their mobile phones, but also to recommend the latest and more suitable mobile phones to users. It is hoped that after the system is popularized in the market, it will eliminate the malicious effect of harassing the phone on the users, at least in the field of switching marketing.\n",
        "\n",
        "**3) How to do?**\n",
        "\n",
        "For precision marketing system, user information is the core asset. Of course, this set of products only use user information owned by channel merchants to generate marketing value, and standardize marketing market, to bring users a better purchase experience. Our precise marketing system is just a pipeline, a highly automated and intelligent information processing production line, and does not produce, transfer or destroy any user's information.\n",
        "\n",
        "First of all, we need to build high-resolution portraits of users according to the private cloud of channel providers, including basic information of users, such as users'gender, age, mobile package, bills, current mobile phones, historical mobile phone replacement, etc. Second, we need to use crawler technology to collect public mobile phone publishing, pre-sale information, channel vendors' own mobile phone sales activities, etc., to build the current available. Mobile phone brand and model for users to choose. Thirdly, based on Python, a set of machine learning model is built to learn and predict the future switching time of users and brand loyalty of mobile phones by using xgboost and LGB models which are widely praised at present. Fourthly, combining with the marketing platform of channel providers, the precise delivery of marketing information is carried out, and the validity of the model is tested until finally put into production environment. Of course, we also provide a full set of system maintenance, update, upgrade and other services, and will make corresponding optimization according to the marketing strategy of channel providers.\n",
        "\n",
        "**4) Project plan**\n",
        "\n",
        "The project plan lasts 12 months from high-level scheme validation to formal commercial use. The Gantt chart below assumes that the project will start on January 1, 2020, and that the project takes into account the holidays. The actual duration of the project is within the holidays. The project is mainly divided into five stages, the planning stage, the main work is the recruitment of personnel and the coarse-grained scheme of the project, which takes three months; the project implementation stage, mainly data collection, collation, model development, parameter adjustment, prediction, APP development, which takes three months; the project verification stage, before the project is commercial, is the trial commercial stage, totally takes two months, the master. The main purpose is to test the accuracy of the results of the existing version and the user perception of APP, etc. Iteration and commercialization of the project is based on the problems found in the previous stage, which takes 2 months to rectify and carry out the stress test necessary for large-scale commercial use of users, and the last month is the formal commercial online stage.\n",
        "\n",
        "\n",
        "\n",
        "![f1](https://github.com/a1b2c3d4-jh/ml2019-as3/blob/master/gante.png?raw=true)\n",
        "\n",
        "\n",
        "\n",
        "\n",
        "\n",
        "\n",
        "\n",
        "\n",
        "\n",
        "**5) Outcome expectations and benefits**\n",
        "\n",
        "The data layer of this project adopts machine learning classification algorithm, and the display layer adopts APP client. App users can download such apps, and after authorization, they can clearly see the users who need switching around, and carry out SMS, telephone or email marketing.\n",
        "\n",
        "Channel merchants who use this service will benefit from three aspects:\n",
        "\n",
        "a. Marketing efficiency has changed from searching for needles in a haystack and passive propaganda to initiative and key breakthroughs; according to the existing data, the switching cycle of young active users is 1-2 years, but these users lack switching guidance and are passively choosing themselves. If we use the services we provide, the salesman only needs to dial the high possibility of changing the machine each time, and does not need to dial all the users. The dialing efficiency is improved by at least 10 times. Channel merchants can optimize the human and time investment of marketing personnel, and the effect is obvious.\n",
        "\n",
        "b. There is a significant increase in the passenger flow of network exchange. We expect that the percentage of users who can enter the outlet for change guidance is about 5% to 10% of the marketing users, which is much higher than that of traditional advertising or harassment telephone marketing, and the success rate of harassment telephone marketing is usually less than 5% of the total.\n",
        "\n",
        "c. The stickiness between the network and the users is enhanced, which facilitates the network to organize targeted preferential activities regularly.\n",
        "\n",
        "# 4. BUDGET\n",
        "![f2](https://github.com/a1b2c3d4-jh/ml2019-as3/blob/master/budget.png?raw=true)\n",
        "The project budget totals $1.317 million for the whole year. For details, please refer to the form. In the part of manpower input, only the cost of actual input time is considered. For example, a Java engineer, with an annual salary of 100,000 US dollars, spends 80% of his actual intelligence time entering the project (considering the early start-up stage, no Java input is required), so the cost of the project is 80,000 AU dollars.\n",
        "\n",
        "# 5.Personnel:\n",
        "\n",
        "The project is expected to consist of 7 people, including 2 people in algorithm development and 1 person in other roles. The specific arrangement is as follows:\n",
        "\n",
        "![f3](https://github.com/a1b2c3d4-jh/ml2019-as3/blob/master/Personnel.png?raw=true)\n",
        "\n",
        "\n",
        "\n",
        "\n",
        "# 6. REFERENCES：\n",
        "\n",
        " a.Sunline, 2019,'Big Data Precision Marketing System', viewed at 9th Oct 2019.\n",
        "http://www.sunline-i.com/pro_view-63.html.\n",
        " \n",
        " b.Jason A, 2018,'AI in Mining', viewed 9th Oct 2019. \n",
        "https://medium.com/baidu-ventures-blog/ai-in-mining-8627e64d5e37\n",
        "\n",
        "\n",
        "# 7.Video Pitch: \n",
        "link:https://youtu.be/hc6sUnMl7uM\n",
        "\n",
        "\n"
      ]
    }
  ]
}